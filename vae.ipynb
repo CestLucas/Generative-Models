{
 "cells": [
  {
   "cell_type": "markdown",
   "metadata": {
    "colab_type": "text",
    "id": "qC71Qv1-TtI-"
   },
   "source": [
    "\n",
    "Solution template for the question 1.6-1.7. This template consists of following steps. Except the step 2, you don't need to modify it to answer the questions.\n",
    "1.   Initialize libraries\n",
    "2.   **Insert the answers for the questions 1.1~1.5 below (this is the part you need to fill)**\n",
    "3.   Define data loaders\n",
    "4.   Define VAE network architecture\n",
    "5.   Initialize the model and optimizer\n",
    "6.   Train the model\n",
    "7.   Save the model\n",
    "8.   Load the model\n",
    "9.   Evaluate the model with importance sampling"
   ]
  },
  {
   "cell_type": "markdown",
   "metadata": {
    "colab_type": "text",
    "id": "mcs7QFvETxQJ"
   },
   "source": [
    "Initialize libraries"
   ]
  },
  {
   "cell_type": "code",
   "execution_count": 1,
   "metadata": {
    "colab": {},
    "colab_type": "code",
    "id": "uLoP5GRpEPbI"
   },
   "outputs": [],
   "source": [
    "import math\n",
    "from torchvision.datasets import utils\n",
    "import torch.utils.data as data_utils\n",
    "import torch\n",
    "import os\n",
    "import numpy as np\n",
    "from torch import nn\n",
    "from torch.nn.modules import upsampling\n",
    "from torch.functional import F\n",
    "from torch.optim import Adam"
   ]
  },
  {
   "cell_type": "markdown",
   "metadata": {
    "colab_type": "text",
    "id": "NTB40neeR6-k"
   },
   "source": [
    "Insert **the answers for the questions 1.1~1.5 below**"
   ]
  },
  {
   "cell_type": "code",
   "execution_count": 2,
   "metadata": {
    "colab": {},
    "colab_type": "code",
    "id": "0Kr08AArNlHU"
   },
   "outputs": [],
   "source": [
    "def log_likelihood_bernoulli(mu, target):\n",
    "    \"\"\" \n",
    "    COMPLETE ME. DONT MODIFY THE PARAMETERS OF THE FUNCTION. Otherwise, tests might fail.\n",
    "\n",
    "    *** note. ***\n",
    "\n",
    "    :param mu: (FloatTensor) - shape: (batch_size x input_size) - The mean of Bernoulli random variables p(x=1).\n",
    "    :param target: (FloatTensor) - shape: (batch_size x input_size) - Target samples (binary values).\n",
    "    :return: (FloatTensor) - shape: (batch_size,) - log-likelihood of target samples on the Bernoulli random variables.\n",
    "    \"\"\"\n",
    "    # init\n",
    "    batch_size = mu.size(0)\n",
    "    mu = mu.view(batch_size, -1)\n",
    "    target = target.view(batch_size, -1)\n",
    "\n",
    "    # log_likelihood_bernoulli\n",
    "    # L = log (mu^tar * (1-mu)^(1-t)) = tar*log(mu) + (1-tar)log(1-mu)\n",
    "    return torch.sum(target * torch.log(mu) + (1-target) * torch.log(1-mu), dim=1)\n",
    "\n",
    "\n",
    "def log_likelihood_normal(mu, logvar, z):\n",
    "    \"\"\" \n",
    "    COMPLETE ME. DONT MODIFY THE PARAMETERS OF THE FUNCTION. Otherwise, tests might fail.\n",
    "\n",
    "    *** note. ***\n",
    "\n",
    "    :param mu: (FloatTensor) - shape: (batch_size x input_size) - The mean of Normal distributions.\n",
    "    :param logvar: (FloatTensor) - shape: (batch_size x input_size) - The log variance of Normal distributions.\n",
    "    :param z: (FloatTensor) - shape: (batch_size x input_size) - Target samples.\n",
    "    :return: (FloatTensor) - shape: (batch_size,) - log probability of the sames on the given Normal distributions.\n",
    "    \"\"\"\n",
    "    # init\n",
    "    batch_size = mu.size(0)\n",
    "    mu = mu.view(batch_size, -1)\n",
    "    logvar = logvar.view(batch_size, -1)\n",
    "    z = z.view(batch_size, -1)\n",
    "\n",
    "    # log normal\n",
    "    # L = log (1/(sd*sqrt(2*pi))exp(-1/2((x-mu)/sd)^2)) = -log(sd*sqrt(2*pi)) -1/2((x-mu)/sd)^2)\n",
    "    # L = -log(sqrt(2*pi*var) - 1/2((x-mu)^2/var))\n",
    "    var = torch.exp(logvar)\n",
    "    return torch.sum(-torch.log((2*np.pi*var)**0.5) - (z-mu)**2/(2*var), dim=1)\n",
    "\n",
    "\n",
    "def log_mean_exp(y):\n",
    "    \"\"\" \n",
    "    COMPLETE ME. DONT MODIFY THE PARAMETERS OF THE FUNCTION. Otherwise, tests might fail.\n",
    "\n",
    "    *** note. ***\n",
    "\n",
    "    :param y: (FloatTensor) - shape: (batch_size x sample_size) - Values to be evaluated for log_mean_exp. For example log proababilies\n",
    "    :return: (FloatTensor) - shape: (batch_size,) - Output for log_mean_exp.\n",
    "    \"\"\"\n",
    "    # init\n",
    "    batch_size = y.size(0)\n",
    "    sample_size = y.size(1)\n",
    "\n",
    "    # log_mean_exp = log(1/k* sum^k(exp(y_i^k-a_i))) + a_i\n",
    "    y_max, idx = torch.max(y, dim=1)\n",
    "    y_max = y_max.reshape(-1,1) # reshape: (batch_size, )\n",
    "    return torch.log(torch.mean(torch.exp(y - y_max), dim=1, keepdim=True)) + y_max \n",
    "\n",
    "\n",
    "def kl_gaussian_gaussian_analytic(mu_q, logvar_q, mu_p, logvar_p):\n",
    "    \"\"\" \n",
    "    COMPLETE ME. DONT MODIFY THE PARAMETERS OF THE FUNCTION. Otherwise, tests might fail.\n",
    "\n",
    "    *** note. ***\n",
    "\n",
    "    :param mu_q: (FloatTensor) - shape: (batch_size x input_size) - The mean of first distributions (Normal distributions).\n",
    "    :param logvar_q: (FloatTensor) - shape: (batch_size x input_size) - The log variance of first distributions (Normal distributions).\n",
    "    :param mu_p: (FloatTensor) - shape: (batch_size x input_size) - The mean of second distributions (Normal distributions).\n",
    "    :param logvar_p: (FloatTensor) - shape: (batch_size x input_size) - The log variance of second distributions (Normal distributions).\n",
    "    :return: (FloatTensor) - shape: (batch_size,) - kl-divergence of KL(q||p).\n",
    "    \"\"\"\n",
    "    # init\n",
    "    batch_size = mu_q.size(0)\n",
    "    mu_q = mu_q.view(batch_size, -1)\n",
    "    logvar_q = logvar_q.view(batch_size, -1)\n",
    "    mu_p = mu_p.view(batch_size, -1)\n",
    "    logvar_p = logvar_p.view(batch_size, -1)\n",
    "\n",
    "    # kld\n",
    "    # ref: https://en.wikipedia.org/wiki/Kullback–Leibler_divergence#Multivariate_normal_distributions\n",
    "    # D_KL[q||p] = 1/2(trace(var_p ^{-1} var_q) + (mu_p - mu_q)^T var_p ^{-1} (mu_p - mu_q) - input_size + log(det_p/det_q))\n",
    "    diff_mu = mu_p - mu_q\n",
    "    \n",
    "    trace = torch.sum(torch.exp(logvar_q - logvar_p), dim=1)\n",
    "    diff_inv_diff = torch.sum(diff_mu / torch.exp(logvar_p) * diff_mu, dim=1)\n",
    "    input_size = mu_q.size(1)\n",
    "    log = torch.sum(logvar_p, dim=1) - torch.sum(logvar_q, dim=1) # shape: (batch_size, 1)\n",
    "    \n",
    "    return (trace + diff_inv_diff - input_size + log) / 2\n",
    "\n",
    "\n",
    "def kl_gaussian_gaussian_mc(mu_q, logvar_q, mu_p, logvar_p, num_samples=1):\n",
    "    \"\"\" \n",
    "    COMPLETE ME. DONT MODIFY THE PARAMETERS OF THE FUNCTION. Otherwise, tests might fail.\n",
    "\n",
    "    *** note. ***\n",
    "\n",
    "    :param mu_q: (FloatTensor) - shape: (batch_size x input_size) - The mean of first distributions (Normal distributions).\n",
    "    :param logvar_q: (FloatTensor) - shape: (batch_size x input_size) - The log variance of first distributions (Normal distributions).\n",
    "    :param mu_p: (FloatTensor) - shape: (batch_size x input_size) - The mean of second distributions (Normal distributions).\n",
    "    :param logvar_p: (FloatTensor) - shape: (batch_size x input_size) - The log variance of second distributions (Normal distributions).\n",
    "    :param num_samples: (int) - shape: () - The number of sample for Monte Carlo estimate for KL-divergence\n",
    "    :return: (FloatTensor) - shape: (batch_size,) - kl-divergence of KL(q||p).\n",
    "    \"\"\"\n",
    "    # init\n",
    "    batch_size = mu_q.size(0)\n",
    "    input_size = np.prod(mu_q.size()[1:])\n",
    "    mu_q = mu_q.view(batch_size, -1).unsqueeze(1).expand(batch_size, num_samples, input_size)\n",
    "    logvar_q = logvar_q.view(batch_size, -1).unsqueeze(1).expand(batch_size, num_samples, input_size)\n",
    "    mu_p = mu_p.view(batch_size, -1).unsqueeze(1).expand(batch_size, num_samples, input_size)\n",
    "    logvar_p = logvar_p.view(batch_size, -1).unsqueeze(1).expand(batch_size, num_samples, input_size)\n",
    "\n",
    "    # kld\n",
    "    # define the distributions\n",
    "    q = torch.distributions.MultivariateNormal(mu_q, torch.diag_embed(torch.exp(logvar_q)))\n",
    "    p = torch.distributions.MultivariateNormal(mu_p, torch.diag_embed(torch.exp(logvar_p)))\n",
    "    z = q.sample()\n",
    "    \n",
    "    return torch.mean(q.log_prob(z) - p.log_prob(z), dim=1)"
   ]
  },
  {
   "cell_type": "markdown",
   "metadata": {
    "colab_type": "text",
    "id": "r3v_ld3ITRFl"
   },
   "source": [
    "Define data loaders"
   ]
  },
  {
   "cell_type": "code",
   "execution_count": 3,
   "metadata": {
    "colab": {},
    "colab_type": "code",
    "id": "oiK4L0TdETNb"
   },
   "outputs": [],
   "source": [
    "def get_data_loader(dataset_location, batch_size):\n",
    "    URL = \"http://www.cs.toronto.edu/~larocheh/public/datasets/binarized_mnist/\"\n",
    "    # start processing\n",
    "    def lines_to_np_array(lines):\n",
    "        return np.array([[int(i) for i in line.split()] for line in lines])\n",
    "    splitdata = []\n",
    "    for splitname in [\"train\", \"valid\", \"test\"]:\n",
    "        filename = \"binarized_mnist_%s.amat\" % splitname\n",
    "        filepath = os.path.join(dataset_location, filename)\n",
    "        utils.download_url(URL + filename, dataset_location)\n",
    "        with open(filepath) as f:\n",
    "            lines = f.readlines()\n",
    "        x = lines_to_np_array(lines).astype('float32')\n",
    "        x = x.reshape(x.shape[0], 1, 28, 28)\n",
    "        # pytorch data loader\n",
    "        dataset = data_utils.TensorDataset(torch.from_numpy(x))\n",
    "        dataset_loader = data_utils.DataLoader(x, batch_size=batch_size, shuffle=splitname == \"train\")\n",
    "        splitdata.append(dataset_loader)\n",
    "    return splitdata"
   ]
  },
  {
   "cell_type": "code",
   "execution_count": 4,
   "metadata": {
    "colab": {},
    "colab_type": "code",
    "id": "TZsL1gLLEVJM"
   },
   "outputs": [
    {
     "name": "stdout",
     "output_type": "stream",
     "text": [
      "Using downloaded and verified file: binarized_mnist/binarized_mnist_train.amat\n",
      "Using downloaded and verified file: binarized_mnist/binarized_mnist_valid.amat\n",
      "Using downloaded and verified file: binarized_mnist/binarized_mnist_test.amat\n"
     ]
    }
   ],
   "source": [
    "train, valid, test = get_data_loader(\"binarized_mnist\", 64)"
   ]
  },
  {
   "cell_type": "markdown",
   "metadata": {
    "colab_type": "text",
    "id": "8PoFxey7TUFS"
   },
   "source": [
    "Define VAE network architecture\n"
   ]
  },
  {
   "cell_type": "code",
   "execution_count": 5,
   "metadata": {
    "colab": {},
    "colab_type": "code",
    "id": "POBmU6UCEb4l"
   },
   "outputs": [],
   "source": [
    "class Encoder(nn.Module):\n",
    "    def __init__(self, latent_size):\n",
    "        super(Encoder, self).__init__()\n",
    "        self.mlp = nn.Sequential(\n",
    "            nn.Linear(784, 300),\n",
    "            nn.ELU(),\n",
    "            nn.Linear(300, 300),\n",
    "            nn.ELU(),\n",
    "            nn.Linear(300, 2 * latent_size),\n",
    "        )\n",
    "\n",
    "    def forward(self, x):\n",
    "        batch_size = x.size(0)\n",
    "        z_mean, z_logvar = self.mlp(x.view(batch_size, 784)).chunk(2, dim=-1)\n",
    "        return z_mean, z_logvar\n",
    "\n",
    "class Decoder(nn.Module):\n",
    "    def __init__(self, latent_size):\n",
    "        super(Decoder, self).__init__()\n",
    "        self.mlp = nn.Sequential(\n",
    "            nn.Linear(latent_size, 300),\n",
    "            nn.ELU(),\n",
    "            nn.Linear(300, 300),\n",
    "            nn.ELU(),\n",
    "            nn.Linear(300, 784),\n",
    "        )\n",
    "        \n",
    "    def forward(self, z):\n",
    "        return self.mlp(z) - 5.\n",
    "\n",
    "class VAE(nn.Module):\n",
    "    def __init__(self, latent_size):\n",
    "        super(VAE, self).__init__()\n",
    "        self.encode = Encoder(latent_size)\n",
    "        self.decode = Decoder(latent_size)\n",
    "\n",
    "    def forward(self, x):\n",
    "        z_mean, z_logvar = self.encode(x)\n",
    "        z_sample = z_mean + torch.exp(z_logvar / 2.) * torch.randn_like(z_logvar)\n",
    "        x_mean = self.decode(z_sample)\n",
    "        return z_mean, z_logvar, x_mean\n",
    "\n",
    "    def loss(self, x, z_mean, z_logvar, x_mean):\n",
    "        ZERO = torch.zeros(z_mean.size())\n",
    "        #kl = kl_gaussian_gaussian_mc(z_mean, z_logvar, ZERO, ZERO, num_samples=1000).mean()\n",
    "        kl = kl_gaussian_gaussian_analytic(z_mean, z_logvar, ZERO, ZERO).mean()\n",
    "        recon_loss = -log_likelihood_bernoulli(\n",
    "            torch.sigmoid(x_mean.view(x.size(0), -1)),\n",
    "            x.view(x.size(0), -1),            \n",
    "        ).mean()\n",
    "        return recon_loss + kl"
   ]
  },
  {
   "cell_type": "markdown",
   "metadata": {
    "colab_type": "text",
    "id": "Phg07ERvTYuh"
   },
   "source": [
    "Initialize a model and optimizer"
   ]
  },
  {
   "cell_type": "code",
   "execution_count": 6,
   "metadata": {
    "colab": {
     "base_uri": "https://localhost:8080/",
     "height": 357
    },
    "colab_type": "code",
    "id": "xTxgDwZfEesO",
    "outputId": "4d0db765-9306-4b84-e66b-fe8403567623"
   },
   "outputs": [
    {
     "name": "stdout",
     "output_type": "stream",
     "text": [
      "VAE(\n",
      "  (encode): Encoder(\n",
      "    (mlp): Sequential(\n",
      "      (0): Linear(in_features=784, out_features=300, bias=True)\n",
      "      (1): ELU(alpha=1.0)\n",
      "      (2): Linear(in_features=300, out_features=300, bias=True)\n",
      "      (3): ELU(alpha=1.0)\n",
      "      (4): Linear(in_features=300, out_features=200, bias=True)\n",
      "    )\n",
      "  )\n",
      "  (decode): Decoder(\n",
      "    (mlp): Sequential(\n",
      "      (0): Linear(in_features=100, out_features=300, bias=True)\n",
      "      (1): ELU(alpha=1.0)\n",
      "      (2): Linear(in_features=300, out_features=300, bias=True)\n",
      "      (3): ELU(alpha=1.0)\n",
      "      (4): Linear(in_features=300, out_features=784, bias=True)\n",
      "    )\n",
      "  )\n",
      ")\n"
     ]
    }
   ],
   "source": [
    "vae = VAE(100)\n",
    "params = vae.parameters()\n",
    "optimizer = Adam(params, lr=3e-4)\n",
    "print(vae)"
   ]
  },
  {
   "cell_type": "markdown",
   "metadata": {
    "colab_type": "text",
    "id": "Oqw9SI7aTdtG"
   },
   "source": [
    "Train the model"
   ]
  },
  {
   "cell_type": "code",
   "execution_count": 7,
   "metadata": {
    "colab": {},
    "colab_type": "code",
    "id": "SWtQakAOEhxN"
   },
   "outputs": [
    {
     "name": "stdout",
     "output_type": "stream",
     "text": [
      "-elbo:  167.93463134765625\n",
      "-elbo:  144.76071166992188\n",
      "-elbo:  130.29869079589844\n",
      "-elbo:  122.106689453125\n",
      "-elbo:  116.83917236328125\n",
      "-elbo:  113.26568603515625\n",
      "-elbo:  111.04727172851562\n",
      "-elbo:  109.50458526611328\n",
      "-elbo:  107.87423706054688\n",
      "-elbo:  107.1313247680664\n",
      "-elbo:  106.11711120605469\n",
      "-elbo:  105.00074768066406\n",
      "-elbo:  104.54178619384766\n",
      "-elbo:  103.69232940673828\n",
      "-elbo:  103.34203338623047\n",
      "-elbo:  102.83753204345703\n",
      "-elbo:  102.25534057617188\n",
      "-elbo:  101.78614044189453\n",
      "-elbo:  101.39635467529297\n",
      "-elbo:  101.4257583618164\n"
     ]
    }
   ],
   "source": [
    "for i in range(20):\n",
    "    # train\n",
    "    for x in train:\n",
    "        optimizer.zero_grad()\n",
    "        z_mean, z_logvar, x_mean = vae(x)\n",
    "        loss = vae.loss(x, z_mean, z_logvar, x_mean)\n",
    "        loss.backward()\n",
    "        optimizer.step()\n",
    "\n",
    "    # evaluate ELBO on the valid dataset\n",
    "    with torch.no_grad():\n",
    "        total_loss = 0.\n",
    "        total_count = 0\n",
    "        for x in valid:\n",
    "            total_loss += vae.loss(x, *vae(x)) * x.size(0)\n",
    "            total_count += x.size(0)\n",
    "        print('-elbo: ', (total_loss / total_count).item())"
   ]
  },
  {
   "cell_type": "markdown",
   "metadata": {
    "colab_type": "text",
    "id": "HXp5vuhDTg1J"
   },
   "source": [
    "Save the model"
   ]
  },
  {
   "cell_type": "code",
   "execution_count": 8,
   "metadata": {
    "colab": {},
    "colab_type": "code",
    "id": "JYfmW5TAElEO"
   },
   "outputs": [
    {
     "name": "stderr",
     "output_type": "stream",
     "text": [
      "/Users/lucas/anaconda3/lib/python3.7/site-packages/torch/serialization.py:360: UserWarning: Couldn't retrieve source code for container of type VAE. It won't be checked for correctness upon loading.\n",
      "  \"type \" + obj.__name__ + \". It won't be checked \"\n",
      "/Users/lucas/anaconda3/lib/python3.7/site-packages/torch/serialization.py:360: UserWarning: Couldn't retrieve source code for container of type Encoder. It won't be checked for correctness upon loading.\n",
      "  \"type \" + obj.__name__ + \". It won't be checked \"\n",
      "/Users/lucas/anaconda3/lib/python3.7/site-packages/torch/serialization.py:360: UserWarning: Couldn't retrieve source code for container of type Decoder. It won't be checked for correctness upon loading.\n",
      "  \"type \" + obj.__name__ + \". It won't be checked \"\n"
     ]
    }
   ],
   "source": [
    "torch.save(vae, 'model.pt')"
   ]
  },
  {
   "cell_type": "markdown",
   "metadata": {
    "colab_type": "text",
    "id": "8Iz6QX_KTizK"
   },
   "source": [
    "Load the model"
   ]
  },
  {
   "cell_type": "code",
   "execution_count": 9,
   "metadata": {
    "colab": {},
    "colab_type": "code",
    "id": "Hqcb8BrmEnMh"
   },
   "outputs": [],
   "source": [
    "vae = torch.load('model.pt')"
   ]
  },
  {
   "cell_type": "markdown",
   "metadata": {
    "colab_type": "text",
    "id": "OTpoVRncTmSR"
   },
   "source": [
    "Evaluate the $\\log p_\\theta(x)$ of the model on test by using importance sampling"
   ]
  },
  {
   "cell_type": "code",
   "execution_count": 10,
   "metadata": {
    "colab": {},
    "colab_type": "code",
    "id": "tc2q6dxgEsIh"
   },
   "outputs": [
    {
     "name": "stdout",
     "output_type": "stream",
     "text": [
      "log p(x): -95.62511444091797\n"
     ]
    }
   ],
   "source": [
    "total_loss = 0.\n",
    "total_count = 0\n",
    "arr = []\n",
    "with torch.no_grad():\n",
    "    #x = next(iter(test))\n",
    "    for x in test:\n",
    "        # init\n",
    "        K = 200\n",
    "        M = x.size(0)\n",
    "\n",
    "        # Sample from the posterior\n",
    "        z_mean, z_logvar = vae.encode(x)\n",
    "        eps = torch.randn(z_mean.size(0), K, z_mean.size(1))\n",
    "        z_samples = z_mean[:, None, :] + torch.exp(z_logvar / 2.)[:, None, :] * eps # Broadcast the noise over the mean and variance\n",
    "\n",
    "        # Decode samples\n",
    "        z_samples_flat = z_samples.view(-1, z_samples.size(-1)) # Flatten out the z samples\n",
    "        x_mean_flat = vae.decode(z_samples_flat) # Push it through\n",
    "\n",
    "        # Reshape images and posterior to evaluate probabilities\n",
    "        x_flat = x[:, None].repeat(1, K, 1, 1, 1).reshape(M*K, -1)\n",
    "        z_mean_flat = z_mean[:, None, :].expand_as(z_samples).reshape(M*K, -1)\n",
    "        z_logvar_flat =  z_logvar[:, None, :].expand_as(z_samples).reshape(M*K, -1)\n",
    "        ZEROS = torch.zeros(z_mean_flat.size())\n",
    "\n",
    "        # Calculate all the probabilities!\n",
    "        log_p_x_z = log_likelihood_bernoulli(torch.sigmoid(x_mean_flat), x_flat).view(M, K)\n",
    "        log_q_z_x = log_likelihood_normal(z_mean_flat, z_logvar_flat, z_samples_flat).view(M, K)\n",
    "        log_p_z = log_likelihood_normal(ZEROS, ZEROS, z_samples_flat).view(M, K)\n",
    "\n",
    "        # Recombine them.\n",
    "        w = log_p_x_z + log_p_z - log_q_z_x\n",
    "        log_p = log_mean_exp(w)\n",
    "\n",
    "        # Accumulate\n",
    "        total_loss += log_p.sum()\n",
    "        total_count += M\n",
    "          \n",
    "        arr.append((total_loss / total_count).item())\n",
    "        \n",
    "print('log p(x):', (total_loss / total_count).item())"
   ]
  },
  {
   "cell_type": "code",
   "execution_count": 11,
   "metadata": {
    "scrolled": true
   },
   "outputs": [
    {
     "name": "stdout",
     "output_type": "stream",
     "text": [
      "log p(x): -95.60469055175781\n"
     ]
    }
   ],
   "source": [
    "total_loss = 0.\n",
    "total_count = 0\n",
    "arr = []\n",
    "with torch.no_grad():\n",
    "    #x = next(iter(test))\n",
    "    for x in test:\n",
    "        # init\n",
    "        K = 200\n",
    "        M = x.size(0)\n",
    "\n",
    "        # Sample from the posterior\n",
    "        z_mean, z_logvar = vae.encode(x)\n",
    "        eps = torch.randn(z_mean.size(0), K, z_mean.size(1))\n",
    "        z_samples = z_mean[:, None, :] + torch.exp(z_logvar / 2.)[:, None, :] * eps # Broadcast the noise over the mean and variance\n",
    "\n",
    "        # Decode samples\n",
    "        z_samples_flat = z_samples.view(-1, z_samples.size(-1)) # Flatten out the z samples\n",
    "        x_mean_flat = vae.decode(z_samples_flat) # Push it through\n",
    "\n",
    "        # Reshape images and posterior to evaluate probabilities\n",
    "        x_flat = x[:, None].repeat(1, K, 1, 1, 1).reshape(M*K, -1)\n",
    "        z_mean_flat = z_mean[:, None, :].expand_as(z_samples).reshape(M*K, -1)\n",
    "        z_logvar_flat =  z_logvar[:, None, :].expand_as(z_samples).reshape(M*K, -1)\n",
    "        ZEROS = torch.zeros(z_mean_flat.size())\n",
    "\n",
    "        # Calculate all the probabilities!\n",
    "        log_p_x_z = log_likelihood_bernoulli(torch.sigmoid(x_mean_flat), x_flat).view(M, K)\n",
    "        log_q_z_x = log_likelihood_normal(z_mean_flat, z_logvar_flat, z_samples_flat).view(M, K)\n",
    "        log_p_z = log_likelihood_normal(ZEROS, ZEROS, z_samples_flat).view(M, K)\n",
    "\n",
    "        # Recombine them.\n",
    "        w = log_p_x_z + log_p_z - log_q_z_x\n",
    "        log_p = log_mean_exp(w)\n",
    "\n",
    "        # Accumulate\n",
    "        total_loss += log_p.sum()\n",
    "        total_count += M\n",
    "          \n",
    "        arr.append((total_loss / total_count).item())\n",
    "        \n",
    "print('log p(x):', (total_loss / total_count).item())"
   ]
  },
  {
   "cell_type": "code",
   "execution_count": 12,
   "metadata": {},
   "outputs": [
    {
     "name": "stdout",
     "output_type": "stream",
     "text": [
      "[-103.39934539794922, -105.12080383300781, -105.7254409790039, -106.2130355834961, -105.33979797363281, -106.64531707763672, -106.3676528930664, -106.39151000976562, -106.56153869628906, -106.7182388305664, -106.00627136230469, -105.41098022460938, -105.68479919433594, -105.3115463256836, -105.6065673828125, -103.22181701660156, -99.87994384765625, -96.89378356933594, -94.44324493408203, -92.26286315917969, -90.27893829345703, -88.23207092285156, -86.52072143554688, -84.87870025634766, -83.45452880859375, -82.13642883300781, -80.92396545410156, -79.7956771850586, -78.77132415771484, -78.16651916503906, -77.27571105957031, -76.4686508178711, -75.82145690917969, -76.72113800048828, -77.82655334472656, -78.76113891601562, -79.55526733398438, -80.3714599609375, -81.00475311279297, -81.79635620117188, -82.47598266601562, -83.18425750732422, -84.010498046875, -84.7567367553711, -85.31884002685547, -86.08030700683594, -86.63522338867188, -87.23941040039062, -87.79821014404297, -88.21414184570312, -88.48722076416016, -88.69462585449219, -88.95362091064453, -89.18097686767578, -89.3722915649414, -89.6334228515625, -89.78434753417969, -90.12921142578125, -90.48308563232422, -90.6999282836914, -90.89405822753906, -91.14773559570312, -91.49398803710938, -91.72765350341797, -92.00224304199219, -92.06580352783203, -92.13318634033203, -92.22573852539062, -92.24687194824219, -92.3133316040039, -92.3404541015625, -92.3998031616211, -92.36315155029297, -92.41500854492188, -92.49224853515625, -92.5467300415039, -92.58564758300781, -92.67266082763672, -92.72310638427734, -92.83246612548828, -92.96803283691406, -93.1505126953125, -93.33452606201172, -93.55651092529297, -93.7217788696289, -93.93302917480469, -94.06253051757812, -94.21023559570312, -94.3924331665039, -94.54309844970703, -94.58939361572266, -94.70233154296875, -94.83222198486328, -94.9638900756836, -95.04743957519531, -95.11531829833984, -95.14979553222656, -95.24775695800781, -95.35542297363281, -95.38838195800781, -95.4591293334961, -95.49247741699219, -95.50346374511719, -95.53791809082031, -95.54264068603516, -95.54246520996094, -95.59041595458984, -95.59966278076172, -95.65459442138672, -95.58564758300781, -95.4929428100586, -95.38246154785156, -95.27938079833984, -95.1528091430664, -95.07061767578125, -95.00750732421875, -94.9329833984375, -94.7495346069336, -94.6191635131836, -94.49327850341797, -94.32564544677734, -94.19844818115234, -94.10403442382812, -94.06868743896484, -93.98704528808594, -94.09742736816406, -94.29055786132812, -94.49723815917969, -94.67912292480469, -94.80059051513672, -95.00746154785156, -95.1891098022461, -95.33344268798828, -95.44664001464844, -95.5848617553711, -95.74165344238281, -95.8671646118164, -95.98371124267578, -96.10555267333984, -96.2667236328125, -96.29009246826172, -96.2192153930664, -96.1932601928711, -96.15314483642578, -96.11573791503906, -96.088134765625, -96.06889343261719, -96.04296112060547, -96.00565338134766, -95.92762756347656, -95.90861511230469, -95.84281158447266, -95.75617218017578, -95.72946166992188, -95.66044616699219, -95.60722351074219, -95.60469055175781]\n"
     ]
    }
   ],
   "source": [
    "print(arr)"
   ]
  },
  {
   "cell_type": "code",
   "execution_count": 8,
   "metadata": {},
   "outputs": [
    {
     "data": {
      "image/png": "[encoded data removed]",
      "text/plain": [
       "<Figure size 576x432 with 1 Axes>"
      ]
     },
     "metadata": {
      "needs_background": "light"
     },
     "output_type": "display_data"
    },
    {
     "data": {
      "text/plain": [
       "<Figure size 432x288 with 0 Axes>"
      ]
     },
     "metadata": {},
     "output_type": "display_data"
    }
   ],
   "source": [
    "import matplotlib.pyplot as plt\n",
    "import numpy as np\n",
    "\n",
    "arr = [-103.39934539794922, -105.12080383300781, -105.7254409790039, -106.2130355834961, -105.33979797363281, -106.64531707763672, -106.3676528930664, -106.39151000976562, -106.56153869628906, -106.7182388305664, -106.00627136230469, -105.41098022460938, -105.68479919433594, -105.3115463256836, -105.6065673828125, -103.22181701660156, -99.87994384765625, -96.89378356933594, -94.44324493408203, -92.26286315917969, -90.27893829345703, -88.23207092285156, -86.52072143554688, -84.87870025634766, -83.45452880859375, -82.13642883300781, -80.92396545410156, -79.7956771850586, -78.77132415771484, -78.16651916503906, -77.27571105957031, -76.4686508178711, -75.82145690917969, -76.72113800048828, -77.82655334472656, -78.76113891601562, -79.55526733398438, -80.3714599609375, -81.00475311279297, -81.79635620117188, -82.47598266601562, -83.18425750732422, -84.010498046875, -84.7567367553711, -85.31884002685547, -86.08030700683594, -86.63522338867188, -87.23941040039062, -87.79821014404297, -88.21414184570312, -88.48722076416016, -88.69462585449219, -88.95362091064453, -89.18097686767578, -89.3722915649414, -89.6334228515625, -89.78434753417969, -90.12921142578125, -90.48308563232422, -90.6999282836914, -90.89405822753906, -91.14773559570312, -91.49398803710938, -91.72765350341797, -92.00224304199219, -92.06580352783203, -92.13318634033203, -92.22573852539062, -92.24687194824219, -92.3133316040039, -92.3404541015625, -92.3998031616211, -92.36315155029297, -92.41500854492188, -92.49224853515625, -92.5467300415039, -92.58564758300781, -92.67266082763672, -92.72310638427734, -92.83246612548828, -92.96803283691406, -93.1505126953125, -93.33452606201172, -93.55651092529297, -93.7217788696289, -93.93302917480469, -94.06253051757812, -94.21023559570312, -94.3924331665039, -94.54309844970703, -94.58939361572266, -94.70233154296875, -94.83222198486328, -94.9638900756836, -95.04743957519531, -95.11531829833984, -95.14979553222656, -95.24775695800781, -95.35542297363281, -95.38838195800781, -95.4591293334961, -95.49247741699219, -95.50346374511719, -95.53791809082031, -95.54264068603516, -95.54246520996094, -95.59041595458984, -95.59966278076172, -95.65459442138672, -95.58564758300781, -95.4929428100586, -95.38246154785156, -95.27938079833984, -95.1528091430664, -95.07061767578125, -95.00750732421875, -94.9329833984375, -94.7495346069336, -94.6191635131836, -94.49327850341797, -94.32564544677734, -94.19844818115234, -94.10403442382812, -94.06868743896484, -93.98704528808594, -94.09742736816406, -94.29055786132812, -94.49723815917969, -94.67912292480469, -94.80059051513672, -95.00746154785156, -95.1891098022461, -95.33344268798828, -95.44664001464844, -95.5848617553711, -95.74165344238281, -95.8671646118164, -95.98371124267578, -96.10555267333984, -96.2667236328125, -96.29009246826172, -96.2192153930664, -96.1932601928711, -96.15314483642578, -96.11573791503906, -96.088134765625, -96.06889343261719, -96.04296112060547, -96.00565338134766, -95.92762756347656, -95.90861511230469, -95.84281158447266, -95.75617218017578, -95.72946166992188, -95.66044616699219, -95.60722351074219, -95.60469055175781]\n",
    "epochs = np.arange(157)\n",
    "\n",
    "x = [0.00, 0.26, 1.77, 1.82, 1.9, 1.91, 1.91, 1.92, 1.92, 1.93, 1.94, 1.95, 1.95, 1.96, 1.98, 2.00, 2.00, 2.00, 2.00, 2.00]\n",
    "y = np.arange(0, 2, 0.1)\n",
    "plt.figure(figsize=(8,6)) \n",
    "\n",
    "plt.scatter(x, y)\n",
    "\n",
    "plt.title('log likelihood estimate evaluation')\n",
    "plt.ylabel('log(p(x))')\n",
    "plt.xlabel('number of test samples')\n",
    "#plt.figure(figsize=(12,10))\n",
    "plt.show()\n",
    "plt.savefig('log.jpeg')"
   ]
  },
  {
   "cell_type": "code",
   "execution_count": null,
   "metadata": {},
   "outputs": [],
   "source": []
  }
 ],
 "metadata": {
  "accelerator": "GPU",
  "colab": {
   "collapsed_sections": [],
   "name": "vae_template.ipynb",
   "provenance": []
  },
  "kernelspec": {
   "display_name": "Python 3",
   "language": "python",
   "name": "python3"
  },
  "language_info": {
   "codemirror_mode": {
    "name": "ipython",
    "version": 3
   },
   "file_extension": ".py",
   "mimetype": "text/x-python",
   "name": "python",
   "nbconvert_exporter": "python",
   "pygments_lexer": "ipython3",
   "version": "3.7.3"
  }
 },
 "nbformat": 4,
 "nbformat_minor": 1
}
